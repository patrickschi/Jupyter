{
 "cells": [
  {
   "cell_type": "markdown",
   "metadata": {},
   "source": [
    "# Aléatoire"
   ]
  },
  {
   "cell_type": "markdown",
   "metadata": {},
   "source": [
    "Le module random permet de générer des nombres aléatoires, pour l'importer il suffit d'exécuter le code suivant au début du document :"
   ]
  },
  {
   "cell_type": "code",
   "execution_count": 1,
   "metadata": {},
   "outputs": [],
   "source": [
    "from random import *"
   ]
  },
  {
   "cell_type": "markdown",
   "metadata": {},
   "source": [
    "Exécutez plusieurs fois le code de la cellule ci-dessous, que permet de simuler randint(1,6) ?"
   ]
  },
  {
   "cell_type": "code",
   "execution_count": null,
   "metadata": {},
   "outputs": [],
   "source": [
    "randint(1,6)"
   ]
  },
  {
   "cell_type": "markdown",
   "metadata": {},
   "source": [
    "Même question pour random()"
   ]
  },
  {
   "cell_type": "code",
   "execution_count": null,
   "metadata": {},
   "outputs": [],
   "source": [
    "random()"
   ]
  },
  {
   "cell_type": "markdown",
   "metadata": {},
   "source": [
    "Même question pour uniform(3,5)"
   ]
  },
  {
   "cell_type": "code",
   "execution_count": null,
   "metadata": {},
   "outputs": [],
   "source": [
    "uniform(3,5)"
   ]
  },
  {
   "cell_type": "markdown",
   "metadata": {},
   "source": [
    "___________________________________________________________________________\n",
    "**Jusqu'à 6**\n",
    "\n",
    "On lance un dé et on s'intéresse au nombre de lancers nécessaires pour obtenir un 6.\n",
    "Écrire un programme simulant cette expérience. Pour vous aider : \n",
    "Introduire la variable **de** qui correspond au résultat du lancer du dé\n",
    "Introduire la variable **compteur** qui compte le nombre de boucles utilisées.\n",
    "Connaissons nous à l'avance le nombre de lancers nécessaires ? Quelle type de boucle utiliser ?"
   ]
  },
  {
   "cell_type": "code",
   "execution_count": null,
   "metadata": {},
   "outputs": [],
   "source": []
  },
  {
   "cell_type": "markdown",
   "metadata": {},
   "source": [
    "___________________________________________________________________________\n",
    "**Pile ou face**\n",
    "\n",
    "On lance n fois une pièce de monnaie en l'air et on s'intéresse au nombre d'apparition de face. Compléter le programme suivant pour que la fonction nombre_face(n) retourne le nombre d'apparition de face parmi les n lancers.\n",
    "Puis créer une fonction frequence_face(n) qui retourne la fréquence d'appartion de face parmi les n lancers."
   ]
  },
  {
   "cell_type": "code",
   "execution_count": null,
   "metadata": {},
   "outputs": [],
   "source": [
    "def nombre_face(n):\n",
    "    face = 0\n",
    "    for i in range(n):\n",
    "        piece =\n",
    "        if           :\n",
    "            face = \n",
    "    return(face)"
   ]
  },
  {
   "cell_type": "markdown",
   "metadata": {},
   "source": [
    "___________________________________________________________________________\n",
    "**Le lièvre et la tortue**\n",
    "\n",
    "A chaque tour, on lance un dé à 6 faces. Si le 6 sort le lièvre gagne la partie, sinon la tortue avance d'une case. La tortue gagne quand elle a avancé 6 fois. Le jeu est-il à l'avantage du lièvre ou de la tortue ?\n",
    "Écrire un programme qui simule ce jeu, conjecturer lequel des deux a l'avantage.  Démontrer cette conjecture à l'aide d'un arbre tronqué."
   ]
  },
  {
   "cell_type": "code",
   "execution_count": null,
   "metadata": {},
   "outputs": [],
   "source": []
  }
 ],
 "metadata": {
  "kernelspec": {
   "display_name": "Python 3",
   "language": "python",
   "name": "python3"
  },
  "language_info": {
   "codemirror_mode": {
    "name": "ipython",
    "version": 3
   },
   "file_extension": ".py",
   "mimetype": "text/x-python",
   "name": "python",
   "nbconvert_exporter": "python",
   "pygments_lexer": "ipython3",
   "version": "3.7.6"
  }
 },
 "nbformat": 4,
 "nbformat_minor": 4
}
