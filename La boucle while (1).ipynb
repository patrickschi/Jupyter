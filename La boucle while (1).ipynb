{
 "cells": [
  {
   "cell_type": "markdown",
   "metadata": {},
   "source": [
    "# la boucle while"
   ]
  },
  {
   "cell_type": "markdown",
   "metadata": {},
   "source": [
    "Entrez le programme ci-dessous :"
   ]
  },
  {
   "cell_type": "code",
   "execution_count": null,
   "metadata": {},
   "outputs": [],
   "source": []
  },
  {
   "cell_type": "markdown",
   "metadata": {},
   "source": [
    "|n=5          |          |           |           |           |           |\n",
    "|-------------|----------|-----------|-----------|-----------|-----------|\n",
    "|n>0          |  True    |           |           |           |           |\n",
    "|-------------|----------|-----------|-----------|-----------|-----------|\n",
    "|print(n)     |     5    |           |           |           |           |\n",
    "|-------------|----------|-----------|-----------|-----------|-----------|\n",
    "|n=n-1        |     4    |           |           |           |           |\n",
    "|-------------|----------|-----------|-----------|-----------|-----------|\n",
    "|print(\"Feu!\")|          |           |           |           |           |\n",
    "|-------------|----------|-----------|-----------|-----------|-----------|\n",
    "|print(n)     |          |           |           |           |           |\n",
    "|-------------|----------|-----------|-----------|-----------|-----------|"
   ]
  },
  {
   "cell_type": "markdown",
   "metadata": {},
   "source": [
    "**Bonjour**\n",
    "\n",
    "Écrire un script qui renvoie n fois  \"Bonjour\" les uns en dessous des autres."
   ]
  },
  {
   "cell_type": "code",
   "execution_count": null,
   "metadata": {},
   "outputs": [],
   "source": [
    "n=10"
   ]
  },
  {
   "cell_type": "markdown",
   "metadata": {},
   "source": [
    "**1 à n**\n",
    "\n",
    "Ecrire un script qui renvoie les n premiers nombres entiers les uns en dessous des autres."
   ]
  },
  {
   "cell_type": "code",
   "execution_count": null,
   "metadata": {},
   "outputs": [],
   "source": [
    "n=10"
   ]
  },
  {
   "cell_type": "markdown",
   "metadata": {},
   "source": [
    "**1 à n impairs**\n",
    "\n",
    "Ecrire un script qui renvoie les nombres impairs inférieurs ou égaux à n les uns en dessous des autres."
   ]
  },
  {
   "cell_type": "code",
   "execution_count": null,
   "metadata": {},
   "outputs": [],
   "source": [
    "n=10"
   ]
  },
  {
   "cell_type": "markdown",
   "metadata": {},
   "source": [
    "**triangles**\n",
    "\n",
    "Ecrire un script qui dessine un triangle comme ci-dessous à n lignes  \n",
    "\\*  \n",
    "\\*\\*  \n",
    "\\*\\*\\*  \n",
    "\\*\\*\\*\\*  \n",
    "\\*\\*\\*\\*\\*  \n",
    "Rappel : \"a\"+\"b\"=\"ab\" et \"a\"*3=\"aaa\""
   ]
  },
  {
   "cell_type": "code",
   "execution_count": null,
   "metadata": {},
   "outputs": [],
   "source": [
    "n=10"
   ]
  },
  {
   "cell_type": "markdown",
   "metadata": {},
   "source": [
    "**triangles inversés**\n",
    "\n",
    "Ecrire un script qui dessine un triangle comme ci-dessous à n lignes  \n",
    "\\*\\*\\*\\*\\*  \n",
    "\\*\\*\\*\\*  \n",
    "\\*\\*\\*  \n",
    "\\*\\*  \n",
    "\\* "
   ]
  },
  {
   "cell_type": "code",
   "execution_count": null,
   "metadata": {},
   "outputs": [],
   "source": [
    "n=10"
   ]
  },
  {
   "cell_type": "markdown",
   "metadata": {},
   "source": [
    "**Baballe**\n",
    "\n",
    "Une balle chute de 400 pixels. A chaque rebond , la hauteur de la balle diminue de 10 \\%. Réalisez un programme qui affiche la hauteur de chaque rebond tant qu'ils sont supérieurs à 5 pixels. Afficher le nombre de rebonds nécessaires pour avoir une hauteur inférieure à 5 pixels."
   ]
  },
  {
   "cell_type": "code",
   "execution_count": null,
   "metadata": {},
   "outputs": [],
   "source": []
  }
 ],
 "metadata": {
  "kernelspec": {
   "display_name": "Python 3",
   "language": "python",
   "name": "python3"
  },
  "language_info": {
   "codemirror_mode": {
    "name": "ipython",
    "version": 3
   },
   "file_extension": ".py",
   "mimetype": "text/x-python",
   "name": "python",
   "nbconvert_exporter": "python",
   "pygments_lexer": "ipython3",
   "version": "3.7.6"
  }
 },
 "nbformat": 4,
 "nbformat_minor": 4
}
