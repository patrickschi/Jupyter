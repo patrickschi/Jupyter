{
 "cells": [
  {
   "cell_type": "markdown",
   "metadata": {},
   "source": [
    "# La boucle while"
   ]
  },
  {
   "cell_type": "markdown",
   "metadata": {},
   "source": [
    "Entrez le programme ci-dessous :"
   ]
  },
  {
   "cell_type": "code",
   "execution_count": null,
   "metadata": {},
   "outputs": [],
   "source": [
    "n=5\n",
    "while n>0 :\n",
    "    print(n)\n",
    "    n=n-1\n",
    "print(\"Feu !\")\n",
    "print(n)"
   ]
  },
  {
   "cell_type": "markdown",
   "metadata": {},
   "source": [
    "|n=5          |          |           |           |           |           |\n",
    "|-------------|----------|-----------|-----------|-----------|-----------|\n",
    "|n>0          |  True    |           |           |           |           |\n",
    "|-------------|----------|-----------|-----------|-----------|-----------|\n",
    "|print(n)     |     5    |           |           |           |           |\n",
    "|-------------|----------|-----------|-----------|-----------|-----------|\n",
    "|n=n-1        |     4    |           |           |           |           |\n",
    "|-------------|----------|-----------|-----------|-----------|-----------|\n",
    "|print(\"Feu!\")|          |           |           |           |           |\n",
    "|-------------|----------|-----------|-----------|-----------|-----------|\n",
    "|print(n)     |          |           |           |           |           |\n",
    "|-------------|----------|-----------|-----------|-----------|-----------|"
   ]
  },
  {
   "cell_type": "markdown",
   "metadata": {},
   "source": [
    "Pour les scripts ci-dessous, j'ai initialisé la variable n à 10. Vous pourrez changer cette valeur pour tester votre script."
   ]
  },
  {
   "cell_type": "markdown",
   "metadata": {},
   "source": [
    "**Bonjour**\n",
    "\n",
    "Écrire un script qui renvoie n fois  \"Bonjour\" les uns en dessous des autres."
   ]
  },
  {
   "cell_type": "code",
   "execution_count": null,
   "metadata": {},
   "outputs": [],
   "source": [
    "n=10"
   ]
  },
  {
   "cell_type": "markdown",
   "metadata": {},
   "source": [
    "**1 à n**\n",
    "\n",
    "Ecrire un script qui renvoie les n premiers nombres entiers les uns en dessous des autres."
   ]
  },
  {
   "cell_type": "code",
   "execution_count": null,
   "metadata": {},
   "outputs": [],
   "source": [
    "n=10"
   ]
  },
  {
   "cell_type": "markdown",
   "metadata": {},
   "source": [
    "**1 à n impairs**\n",
    "\n",
    "Ecrire un script qui renvoie les nombres impairs inférieurs ou égaux à n les uns en dessous des autres."
   ]
  },
  {
   "cell_type": "code",
   "execution_count": null,
   "metadata": {},
   "outputs": [],
   "source": [
    "n=10"
   ]
  },
  {
   "cell_type": "markdown",
   "metadata": {},
   "source": [
    "**Triangles**\n",
    "\n",
    "Ecrire un script qui dessine un triangle comme ci-dessous à n lignes. Rappel : \"a\"+\"b\"=\"ab\" et \"a\"*3=\"aaa\".  \n",
    "\n",
    "\\*  \n",
    "\\*\\*  \n",
    "\\*\\*\\*  \n",
    "\\*\\*\\*\\*  \n",
    "\\*\\*\\*\\*\\*  "
   ]
  },
  {
   "cell_type": "code",
   "execution_count": null,
   "metadata": {},
   "outputs": [],
   "source": [
    "n=10"
   ]
  },
  {
   "cell_type": "markdown",
   "metadata": {},
   "source": [
    "**triangles inversés et somme**\n",
    "\n",
    "Ecrire un script qui dessine un triangle comme ci-dessous à n lignes et qui affiche en dessous le nombre total d'étoiles.  \n",
    "\n",
    "\\*\\*\\*\\*\\*  \n",
    "\\*\\*\\*\\*  \n",
    "\\*\\*\\*  \n",
    "\\*\\*  \n",
    "\\*   \n",
    "\n",
    "Il y a 15 etoiles"
   ]
  },
  {
   "cell_type": "code",
   "execution_count": null,
   "metadata": {},
   "outputs": [],
   "source": [
    "n=10"
   ]
  },
  {
   "cell_type": "markdown",
   "metadata": {},
   "source": [
    "**Baballe**\n",
    "\n",
    "Une balle chute de 400 pixels. A chaque rebond , la hauteur de la balle diminue de 10 \\%.  \n",
    "Réalisez un programme qui affiche la hauteur de chaque rebond tant qu'ils sont supérieurs à 5 pixels. Afficher le nombre de rebonds nécessaires pour avoir une hauteur inférieure à 5 pixels."
   ]
  },
  {
   "cell_type": "code",
   "execution_count": null,
   "metadata": {},
   "outputs": [],
   "source": []
  },
  {
   "cell_type": "markdown",
   "metadata": {},
   "source": [
    "**Voiture**  \n",
    "\n",
    "Au premier janvier 2020, le prix d'une voiture est de 18 960 euros.  \n",
    "Chaque année, la valeur de cette voiture diminue de 20 \\%.  \n",
    "On souhaite écrire un programme qui calcule le nombre d'années au bout duquel la valeur de cette voiture passe sous le seuil de 2 000 euros."
   ]
  },
  {
   "cell_type": "code",
   "execution_count": null,
   "metadata": {},
   "outputs": [],
   "source": []
  }
 ],
 "metadata": {
  "kernelspec": {
   "display_name": "Python 3",
   "language": "python",
   "name": "python3"
  },
  "language_info": {
   "codemirror_mode": {
    "name": "ipython",
    "version": 3
   },
   "file_extension": ".py",
   "mimetype": "text/x-python",
   "name": "python",
   "nbconvert_exporter": "python",
   "pygments_lexer": "ipython3",
   "version": "3.7.6"
  }
 },
 "nbformat": 4,
 "nbformat_minor": 4
}
